{
  "nbformat": 4,
  "nbformat_minor": 0,
  "metadata": {
    "colab": {
      "name": "Aprendizado-por-reforco-2-multiplos-bandidos.ipynb",
      "provenance": [],
      "collapsed_sections": [
        "bIpJ2bgXMjJl",
        "2Qecw5zNK29L",
        "jBh8a2YVaN2N",
        "82qZj-mEr1K8"
      ],
      "include_colab_link": true
    },
    "kernelspec": {
      "name": "python3",
      "display_name": "Python 3"
    }
  },
  "cells": [
    {
      "cell_type": "markdown",
      "metadata": {
        "id": "view-in-github",
        "colab_type": "text"
      },
      "source": [
        "<a href=\"https://colab.research.google.com/github/rai3mb/iesb/blob/master/Aprendizado_por_reforco_2_multiplos_bandidos.ipynb\" target=\"_parent\"><img src=\"https://colab.research.google.com/assets/colab-badge.svg\" alt=\"Open In Colab\"/></a>"
      ]
    },
    {
      "cell_type": "markdown",
      "metadata": {
        "id": "1k2j80KXBJz4",
        "colab_type": "text"
      },
      "source": [
        "## Exemplo para problema dos k bandidos armados - seleção de ação greedy"
      ]
    },
    {
      "cell_type": "markdown",
      "metadata": {
        "id": "A7HEPkQhcKg9",
        "colab_type": "text"
      },
      "source": [
        "- Esse exercício envolve bandidos que têm recompensas ditadas por distribuições uniformes."
      ]
    },
    {
      "cell_type": "markdown",
      "metadata": {
        "id": "LXvjHKxsbth6",
        "colab_type": "text"
      },
      "source": [
        "**COMO DETERMINAR A EXPECTATIVA DE DISTRIBUIÇÕES UNIFORMES?**\n",
        "\n",
        "* A função `numpy.random.uniform` não permite receber como parâmetro a média da distribuição uniforme. Isso porque a distribuição uniforme é caracterizada pelo intervalo de definição da distribuição: `x = [a, b)`. Com isso, a função densidade da distribuição é dada por `f(x) = 1/(b - a)`, já que todos os elementos deverão ser equiprováveis.\n",
        "\n",
        "\n",
        "* A esperança (média) de uma distribuição uniforme é determinada pelo intervalo [a, b) de definição. `E[X] = (1/2) * (a + b)`. Portanto, para induzir uma média adequada, basta definir adequadamente o intervalo da distribuição uniforme.\n",
        "\n",
        "* Em um intervalo unitário [0, 1), a expectativa é 1/2 = (1/2) * (0 + 1). Já em um intervalo [-0.5, 0.5), a expectativa é 0. Portanto, basta definir uma distribuição uniforme em [-0.5, 0.5) e somar a média desejada ao valor. \n",
        "\n",
        "* Isso será equivalente a deslocar o intervalo para `[-0.5 + media_desejada, 0.5 + media_desejada]`. Calculando a expectation: \n",
        "\n",
        "`E[X] = (1/2) * (-0.5 + media_desejada + 0.5 + media_desejada)`\n",
        "\n",
        "`E[X] = (1/2) * (2 * media_desejada)`\n",
        "\n",
        "`E[X] = media_desejada`"
      ]
    },
    {
      "cell_type": "markdown",
      "metadata": {
        "id": "S2ig94kaeaPu",
        "colab_type": "text"
      },
      "source": [
        "**DICA: para debugar e entender o código, utilize a função `pdb.set_trace()`. Ao rodar o código a execução parará na linha especificada. Você poderá acompanhar passo a passo o programa, realizar prints, avaliar expressões, verificar valores de variáveis, etc.**"
      ]
    },
    {
      "cell_type": "code",
      "metadata": {
        "colab_type": "code",
        "id": "4Ac4Y83neKs9",
        "colab": {}
      },
      "source": [
        "import numpy as np\n",
        "import matplotlib.pyplot as plt\n",
        "import pdb\n",
        "import pandas as pd"
      ],
      "execution_count": 1,
      "outputs": []
    },
    {
      "cell_type": "markdown",
      "metadata": {
        "id": "FEByqiuswv3N",
        "colab_type": "text"
      },
      "source": [
        "## Exemplo 1"
      ]
    },
    {
      "cell_type": "code",
      "metadata": {
        "id": "BR-dmz8hCQ0_",
        "colab_type": "code",
        "colab": {}
      },
      "source": [
        "class Bandit:\n",
        "  \"\"\" Classe que define um bandido com recompensa seguindo uma distribuição \n",
        "      uniforme\n",
        "  \"\"\"\n",
        "\n",
        "  def __init__(self, true_mean):\n",
        "    \"\"\" Para caracterizar a distribuição uniforme, basta inicializar com média. \n",
        "    \"\"\"\n",
        "    self.q = true_mean\n",
        "    self.Q_t = 0\n",
        "    self.t = 0\n",
        "    self.low = -0.5 + self.q\n",
        "    self.high = 0.5 + self.q\n",
        "\n",
        "  def pull(self):\n",
        "    \"\"\" Método que define a interação com o bandido. A recompensa é resultante\n",
        "        de uma distribuição uniforme de média especificada.\n",
        "    \"\"\"\n",
        "    return np.random.uniform(low=self.low, high=self.high)\n",
        "\n",
        "  def update(self, curr_reward):\n",
        "    \"\"\" Método responsável por atualizar a estimação da expectativa da \n",
        "        recompensa\n",
        "    \"\"\"\n",
        "    self.t += 1\n",
        "    self.Q_t = self.Q_t + (1.0/self.t) * (curr_reward - self.Q_t)"
      ],
      "execution_count": 2,
      "outputs": []
    },
    {
      "cell_type": "code",
      "metadata": {
        "id": "QLEiGW_eI333",
        "colab_type": "code",
        "colab": {}
      },
      "source": [
        "def greedy_policy(bandits):\n",
        "  \"\"\" Função responsável por escolher o bandido segundo uma estratégia greedy.\n",
        "      Retorna o bandido correspondente à greedy action.\n",
        "  \"\"\"\n",
        "  Q_values = [b.Q_t for b in bandits]\n",
        "  greedy_index = np.argmax(Q_values)\n",
        "  greedy_bandit = bandits[greedy_index]\n",
        "  return greedy_bandit, greedy_index"
      ],
      "execution_count": 3,
      "outputs": []
    },
    {
      "cell_type": "code",
      "metadata": {
        "id": "JWBD-2ssKWfY",
        "colab_type": "code",
        "colab": {}
      },
      "source": [
        "def interact_with_bandit(bandit):\n",
        "  \"\"\" Função que interage com um bandido. A interação envolve a coleta da \n",
        "      recompensa e a atualização da média estimada.\n",
        "  \"\"\"\n",
        "  # Coleta a recompensa da interação\n",
        "  reward = bandit.pull()\n",
        "\n",
        "  # Atualiza a estimação da média\n",
        "  bandit.update(reward)\n",
        "\n",
        "  return reward"
      ],
      "execution_count": 4,
      "outputs": []
    },
    {
      "cell_type": "code",
      "metadata": {
        "id": "HJKqLqtkCRAA",
        "colab_type": "code",
        "colab": {}
      },
      "source": [
        "def run_greedy_bandits_experiment(bandits_array, num_iterations):\n",
        "  \"\"\" Simula um cenário dos banditos com a escolha greedy de ação \"\"\"\n",
        "  rewards_array = np.empty(num_iterations)\n",
        "\n",
        "  for n in np.arange(num_iterations):\n",
        "    # Sempre há escolha da ação greedy.\n",
        "    greedy_bandit, greedy_index = greedy_policy(bandits_array)\n",
        "\n",
        "    # Realiza a interação com o bandido que corresponde à ação greedy\n",
        "    curr_reward = interact_with_bandit(greedy_bandit)\n",
        "\n",
        "    rewards_array[n] = curr_reward\n",
        "\n",
        "  return rewards_array"
      ],
      "execution_count": 6,
      "outputs": []
    },
    {
      "cell_type": "code",
      "metadata": {
        "id": "LPmErJ6BAPeC",
        "colab_type": "code",
        "colab": {}
      },
      "source": [
        "def get_mean_cumulative_reward(reward_array):\n",
        "  cumulative_reward = np.cumsum(reward_array)\n",
        "  mean_cumulative_reward = cumulative_reward / (np.arange(len(reward_array)) + 1)\n",
        "  return mean_cumulative_reward"
      ],
      "execution_count": 7,
      "outputs": []
    },
    {
      "cell_type": "code",
      "metadata": {
        "id": "SkvuiP_cQ8nx",
        "colab_type": "code",
        "colab": {
          "base_uri": "https://localhost:8080/",
          "height": 517
        },
        "outputId": "b06914f6-c510-43eb-d8b5-b78824ea5715"
      },
      "source": [
        "def main(num_iterations):\n",
        "  \"\"\" Método principal \"\"\"\n",
        "  mean_array = [1.0, 2.0, 3.0, 4.0]\n",
        "  bandits_array = list(map(lambda mean: Bandit(mean), mean_array))\n",
        "\n",
        "  rewards_array = run_greedy_bandits_experiment(bandits_array, num_iterations)\n",
        "\n",
        "  # Calculando a recompensa acumulada\n",
        "  mean_cumulative_reward = get_mean_cumulative_reward(rewards_array)\n",
        "  \n",
        "  # Fazendo o plot da expectativa real dos banditos versus a recompensa média\n",
        "  # acumulada\n",
        "  plt.figure(figsize=(10,8))\n",
        "  plt.plot(mean_cumulative_reward)\n",
        "  legends = ['recompensa média acumulada']\n",
        "  for cont, b in enumerate(bandits_array):\n",
        "    plt.plot(np.ones(num_iterations) * b.q)\n",
        "    legends.append('bandido ' + str(cont))\n",
        "  plt.xscale('log')\n",
        "  plt.xlabel('Número de iterações')\n",
        "  plt.ylabel('Recompensa média acumulada')\n",
        "  plt.title('Plot da recompensa média acumulada')\n",
        "  plt.legend(legends)\n",
        "  plt.show()\n",
        "\n",
        "main(num_iterations=25)"
      ],
      "execution_count": 8,
      "outputs": [
        {
          "output_type": "display_data",
          "data": {
            "image/png": "[encoded data removed]",
            "text/plain": [
              "<Figure size 720x576 with 1 Axes>"
            ]
          },
          "metadata": {
            "tags": [],
            "needs_background": "light"
          }
        }
      ]
    },
    {
      "cell_type": "markdown",
      "metadata": {
        "id": "bIpJ2bgXMjJl",
        "colab_type": "text"
      },
      "source": [
        "## 1.1 Repita o experimento acima algumas vezes. O resultado é sempre o mesmo. Porque? Que tipo de informação você poderia exibir para tentar entender o que está acontecendo?"
      ]
    },
    {
      "cell_type": "markdown",
      "metadata": {
        "id": "2Qecw5zNK29L",
        "colab_type": "text"
      },
      "source": [
        "## 1.2 Pela lei dos grandes números, ao interagir várias vezes com um mesmo bandido, a média das recompensas deveria convergir para a expectativa da variável aleatória. Porque isso não está acontecendo de maneira muito precisa até então? O que seria necessário fazer para que a estimação da média convergisse para a expectativa?"
      ]
    },
    {
      "cell_type": "markdown",
      "metadata": {
        "id": "Pi07c1GyxCNj",
        "colab_type": "text"
      },
      "source": [
        "## Exemplo 2"
      ]
    },
    {
      "cell_type": "code",
      "metadata": {
        "id": "6CU9r-zTSDjN",
        "colab_type": "code",
        "colab": {}
      },
      "source": [
        "def aleatory_exploration(bandits, num_iterations):\n",
        "  \"\"\" Método que faz interações aleatórias com os bandidos num_iterações vezes.\n",
        "      Isso permite uma inicialização da estimação do action-value diferente de 0.\n",
        "      É algo necessário para que o greedy não fique preso apenas em interações\n",
        "      com único bandido\n",
        "  \"\"\"\n",
        "  for n in range(num_iterations):\n",
        "    b = np.random.choice(bandits)\n",
        "\n",
        "    # Nessa etapa inicial de exploração, os rewards não serão armazenados.\n",
        "    interact_with_bandit(b)"
      ],
      "execution_count": null,
      "outputs": []
    },
    {
      "cell_type": "code",
      "metadata": {
        "colab_type": "code",
        "id": "GatWKUEUZvOe",
        "colab": {}
      },
      "source": [
        "def run_greedy_bandits_experiment_with_initial_exploration(\n",
        "    bandits_array, greedy_iterations, exploration_iterations):\n",
        "  \"\"\" Simula um cenário dos banditos com a escolha greedy de ação \"\"\"\n",
        "\n",
        "  # Faz a exploração inicial para estimar um valor inicial para Q_t\n",
        "  aleatory_exploration(bandits_array, exploration_iterations)\n",
        "\n",
        "  rewards_array = np.empty(greedy_iterations)\n",
        "\n",
        "  for n in np.arange(greedy_iterations):\n",
        "    # Sempre há escolha da ação greedy.\n",
        "    greedy_bandit, greedy_index = greedy_policy(bandits_array)\n",
        "\n",
        "    # Realiza a interação com o bandido que corresponde à ação greedy\n",
        "    curr_reward = interact_with_bandit(greedy_bandit)\n",
        "\n",
        "    rewards_array[n] = curr_reward\n",
        "\n",
        "  return rewards_array"
      ],
      "execution_count": null,
      "outputs": []
    },
    {
      "cell_type": "code",
      "metadata": {
        "id": "kmJWDwh1ZwI6",
        "colab_type": "code",
        "colab": {
          "base_uri": "https://localhost:8080/",
          "height": 517
        },
        "outputId": "74de79fb-adac-4a79-cea7-6ae9d07c2aa2"
      },
      "source": [
        "def main2(exploration_iterations, greedy_iterations, mean_array):\n",
        "  \"\"\" Método principal \"\"\"\n",
        "  bandits = list(map(lambda mean: Bandit(mean), mean_array))\n",
        "\n",
        "  rewards_array = run_greedy_bandits_experiment_with_initial_exploration(\n",
        "      bandits, greedy_iterations, exploration_iterations)\n",
        "\n",
        "  # Calculando a recompensa acumulada\n",
        "  mean_cumulative_reward = get_mean_cumulative_reward(rewards_array)\n",
        "  \n",
        "  # Fazendo o plot da expectativa real dos banditos versus a recompensa média\n",
        "  # acumulada\n",
        "  plt.figure(figsize=(10,8))\n",
        "  plt.plot(mean_cumulative_reward)\n",
        "  legends = ['recompensa média acumulada']\n",
        "  for cont, b in enumerate(bandits):\n",
        "    plt.plot(np.ones(greedy_iterations) * b.q)\n",
        "    legends.append('bandido ' + str(cont))\n",
        "  plt.xscale('log')\n",
        "  plt.xlabel('Número de iterações')\n",
        "  plt.ylabel('Recompensa média acumulada')\n",
        "  plt.title('Plot da recompensa média acumulada')\n",
        "  plt.legend(legends)\n",
        "  plt.show()\n",
        "\n",
        "\n",
        "main2(exploration_iterations=5, greedy_iterations=1000,\n",
        "      mean_array=[1.0, 3.0, 5.0, 7.0])"
      ],
      "execution_count": null,
      "outputs": [
        {
          "output_type": "display_data",
          "data": {
            "image/png": "[encoded data removed]",
            "text/plain": [
              "<Figure size 720x576 with 1 Axes>"
            ]
          },
          "metadata": {
            "tags": [],
            "needs_background": "light"
          }
        }
      ]
    },
    {
      "cell_type": "markdown",
      "metadata": {
        "id": "n8KkbPqaaOQX",
        "colab_type": "text"
      },
      "source": [
        "## 2.1 É possível ver que o agente encontra a melhor escolha na maioria das vezes. O que faz o cenário ser tão fácil?"
      ]
    },
    {
      "cell_type": "markdown",
      "metadata": {
        "id": "jBh8a2YVaN2N",
        "colab_type": "text"
      },
      "source": [
        "## 2.2 Em algumas situações, o agente não consegue encontrar a melhor solução. Mostre o que acontece nessas situações."
      ]
    },
    {
      "cell_type": "markdown",
      "metadata": {
        "id": "82qZj-mEr1K8",
        "colab_type": "text"
      },
      "source": [
        "## 2.3 Em que situação esse cenário, de bandidos uniformes, seria mais desafiador? Crie um código que simule este cenário."
      ]
    },
    {
      "cell_type": "markdown",
      "metadata": {
        "id": "RbwWPVkzxWgR",
        "colab_type": "text"
      },
      "source": [
        "## Exemplo 3"
      ]
    },
    {
      "cell_type": "code",
      "metadata": {
        "id": "Se4Ra7aUoXe_",
        "colab_type": "code",
        "colab": {}
      },
      "source": [
        "class BanditBinomial:\n",
        "  \"\"\" Classe que define um bandido com recompensa seguindo uma distribuição \n",
        "      binomial\n",
        "  \"\"\"\n",
        "\n",
        "  def __init__(self, n, p):\n",
        "    \"\"\" Para caracterizar a distribuição uniforme, basta inicializar com média. \n",
        "    \"\"\"\n",
        "    self.q = n * p # A média verdadeira da distribuição\n",
        "    self.n = n\n",
        "    self.p = p\n",
        "    self.Q_t = 0\n",
        "    self.t = 0\n",
        "\n",
        "  def pull(self):\n",
        "    \"\"\" Método que define a interação com o bandido. A recompensa é resultante\n",
        "        de uma distribuição uniforme de média especificada.\n",
        "    \"\"\"\n",
        "    return np.random.binomial(n=self.n, p=self.p)\n",
        "\n",
        "  def update(self, curr_reward):\n",
        "    \"\"\" Método responsável por atualizar a estimação da expectativa da \n",
        "        recompensa\n",
        "    \"\"\"\n",
        "    self.t += 1\n",
        "    self.Q_t = self.Q_t + (1.0/self.t) * (curr_reward - self.Q_t)"
      ],
      "execution_count": null,
      "outputs": []
    },
    {
      "cell_type": "code",
      "metadata": {
        "id": "BGCBLzcXq07Z",
        "colab_type": "code",
        "colab": {}
      },
      "source": [
        "def fixed_exploration(bandits, num_explorations):\n",
        "  \"\"\" Método que faz um número fixo de interações com cada bandido.\n",
        "  \"\"\"\n",
        "  for b in bandits:\n",
        "    for n in range(num_explorations):\n",
        "      # Nessa etapa inicial de exploração, os rewards não serão armazenados.\n",
        "      interact_with_bandit(b)"
      ],
      "execution_count": null,
      "outputs": []
    },
    {
      "cell_type": "code",
      "metadata": {
        "id": "Epzg37NJrEYA",
        "colab_type": "code",
        "colab": {}
      },
      "source": [
        "def run_greedy_bandits_experiment_with_fixed_exploration(\n",
        "    bandits_array, greedy_iterations, num_explorations):\n",
        "  \"\"\" Simula um cenário dos banditos com a escolha greedy de ação \"\"\"\n",
        "\n",
        "  # Faz a exploração inicial para estimar um valor inicial para Q_t\n",
        "  fixed_exploration(bandits_array, num_explorations)\n",
        "\n",
        "  index_array = np.empty(greedy_iterations)\n",
        "  rewards_array = np.empty(greedy_iterations)\n",
        "\n",
        "  for n in np.arange(greedy_iterations):\n",
        "    # Sempre há escolha da ação greedy.\n",
        "    greedy_bandit, greedy_index = greedy_policy(bandits_array)\n",
        "\n",
        "    # Realiza a interação com o bandido que corresponde à ação greedy\n",
        "    curr_reward = interact_with_bandit(greedy_bandit)\n",
        "\n",
        "    rewards_array[n] = curr_reward\n",
        "    index_array[n] = greedy_index\n",
        "\n",
        "  return rewards_array, index_array"
      ],
      "execution_count": null,
      "outputs": []
    },
    {
      "cell_type": "code",
      "metadata": {
        "id": "dmZc0vTWpYe9",
        "colab_type": "code",
        "colab": {
          "base_uri": "https://localhost:8080/",
          "height": 550
        },
        "outputId": "4c963df0-bb38-4a02-a6c3-84de1a3d434a"
      },
      "source": [
        "def main3(num_explorations, greedy_iterations):\n",
        "  \"\"\" Método principal \"\"\"\n",
        "  n = 100\n",
        "  p_array = [0.1, 0.11, 0.12, 0.13, 0.14]\n",
        "  bandits = list(map(lambda p: BanditBinomial(n=n, p=p), p_array))\n",
        "\n",
        "  rewards_array, index_array = run_greedy_bandits_experiment_with_fixed_exploration(\n",
        "      bandits, greedy_iterations, num_explorations)\n",
        "\n",
        "  # Calculando a recompensa acumulada\n",
        "  mean_cumulative_reward = get_mean_cumulative_reward(rewards_array)\n",
        "\n",
        "# Fazendo o plot da expectativa real dos banditos versus a recompensa média\n",
        "  # acumulada\n",
        "  plt.figure(figsize=(10,8))\n",
        "  plt.plot(mean_cumulative_reward)\n",
        "  legends = ['recompensa média acumulada']\n",
        "  for cont, b in enumerate(bandits):\n",
        "    plt.plot(np.ones(greedy_iterations) * b.q)\n",
        "    legends.append('bandido ' + str(cont))\n",
        "  plt.xscale('log')\n",
        "  plt.xlabel('Número de iterações')\n",
        "  plt.ylabel('Recompensa média acumulada')\n",
        "  plt.title('Plot da recompensa média acumulada')\n",
        "  plt.legend(legends)\n",
        "  plt.show()\n",
        "\n",
        "main3(num_explorations=2, greedy_iterations=100)"
      ],
      "execution_count": null,
      "outputs": [
        {
          "output_type": "stream",
          "text": [
            "Expectations iniciais do agente:\n",
            "[14.0, 12.0, 13.5, 12.5, 10.5]\n"
          ],
          "name": "stdout"
        },
        {
          "output_type": "display_data",
          "data": {
            "image/png": "[encoded data removed]",
            "text/plain": [
              "<Figure size 720x576 with 1 Axes>"
            ]
          },
          "metadata": {
            "tags": [],
            "needs_background": "light"
          }
        }
      ]
    },
    {
      "cell_type": "markdown",
      "metadata": {
        "id": "anjJ0x0spZFP",
        "colab_type": "text"
      },
      "source": [
        "## 3.1 Nem sempre o agente consegue encontrar a melhor solução nesse caso. Esse cenário é mais difícil do que os bandidos uniformes? Exiba e explique o motivo."
      ]
    },
    {
      "cell_type": "markdown",
      "metadata": {
        "id": "X4fn4TJTpNOe",
        "colab_type": "text"
      },
      "source": [
        "## 3.2 Qual a fraqueza do método greedy de aprendizado? Porque o agente nem sempre consegue um resultado ótimo?"
      ]
    },
    {
      "cell_type": "markdown",
      "metadata": {
        "id": "nBpS1AMt5t6b",
        "colab_type": "text"
      },
      "source": [
        "**PENSE NISSO: A etapa de exploração é critica. Conseguiria pensar em alguma outra forma de fazer uma exploração adequada?**"
      ]
    }
  ]
}